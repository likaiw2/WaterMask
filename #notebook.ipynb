{
 "cells": [
  {
   "cell_type": "markdown",
   "metadata": {},
   "source": [
    "### train_cfg\n"
   ]
  },
  {
   "cell_type": "code",
   "execution_count": null,
   "metadata": {},
   "outputs": [],
   "source": [
    "{'rpn': {\n",
    "    'assigner': {...}, \n",
    "    'sampler': {...}, \n",
    "    'allowed_border': -1, \n",
    "    'pos_weight': -1, \n",
    "    'debug': False\n",
    "    }, \n",
    "'rpn_proposal': {\n",
    "    'nms_pre': 2000, \n",
    "    'max_per_img': 1000, \n",
    "    'nms': {...}, \n",
    "    'min_bbox_size': 0\n",
    "    }, \n",
    "'rcnn': {\n",
    "    'assigner': {...}, \n",
    "    'sampler': {...}, \n",
    "    'mask_size': 28, \n",
    "    'pos_weight': -1, \n",
    "    'debug': False\n",
    "    }\n",
    "}"
   ]
  }
 ],
 "metadata": {
  "kernelspec": {
   "display_name": "watermask",
   "language": "python",
   "name": "python3"
  },
  "language_info": {
   "name": "python",
   "version": "3.8.19"
  }
 },
 "nbformat": 4,
 "nbformat_minor": 2
}
